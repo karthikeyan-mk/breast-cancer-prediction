{
 "cells": [
  {
   "cell_type": "code",
   "execution_count": 1,
   "metadata": {},
   "outputs": [],
   "source": [
    "import matplotlib.pyplot as plt\n",
    "import numpy as np"
   ]
  },
  {
   "cell_type": "code",
   "execution_count": 2,
   "metadata": {},
   "outputs": [],
   "source": [
    "import pandas as pd"
   ]
  },
  {
   "cell_type": "code",
   "execution_count": 3,
   "metadata": {},
   "outputs": [],
   "source": [
    "data = pd.read_csv(\"Breast_cancer_data.csv\")"
   ]
  },
  {
   "cell_type": "code",
   "execution_count": 4,
   "metadata": {},
   "outputs": [
    {
     "data": {
      "text/html": [
       "<div>\n",
       "<style scoped>\n",
       "    .dataframe tbody tr th:only-of-type {\n",
       "        vertical-align: middle;\n",
       "    }\n",
       "\n",
       "    .dataframe tbody tr th {\n",
       "        vertical-align: top;\n",
       "    }\n",
       "\n",
       "    .dataframe thead th {\n",
       "        text-align: right;\n",
       "    }\n",
       "</style>\n",
       "<table border=\"1\" class=\"dataframe\">\n",
       "  <thead>\n",
       "    <tr style=\"text-align: right;\">\n",
       "      <th></th>\n",
       "      <th>mean_radius</th>\n",
       "      <th>mean_texture</th>\n",
       "      <th>mean_perimeter</th>\n",
       "      <th>mean_area</th>\n",
       "      <th>mean_smoothness</th>\n",
       "      <th>diagnosis</th>\n",
       "    </tr>\n",
       "  </thead>\n",
       "  <tbody>\n",
       "    <tr>\n",
       "      <th>0</th>\n",
       "      <td>17.99</td>\n",
       "      <td>10.38</td>\n",
       "      <td>122.80</td>\n",
       "      <td>1001.0</td>\n",
       "      <td>0.11840</td>\n",
       "      <td>0</td>\n",
       "    </tr>\n",
       "    <tr>\n",
       "      <th>1</th>\n",
       "      <td>20.57</td>\n",
       "      <td>17.77</td>\n",
       "      <td>132.90</td>\n",
       "      <td>1326.0</td>\n",
       "      <td>0.08474</td>\n",
       "      <td>0</td>\n",
       "    </tr>\n",
       "    <tr>\n",
       "      <th>2</th>\n",
       "      <td>19.69</td>\n",
       "      <td>21.25</td>\n",
       "      <td>130.00</td>\n",
       "      <td>1203.0</td>\n",
       "      <td>0.10960</td>\n",
       "      <td>0</td>\n",
       "    </tr>\n",
       "    <tr>\n",
       "      <th>3</th>\n",
       "      <td>11.42</td>\n",
       "      <td>20.38</td>\n",
       "      <td>77.58</td>\n",
       "      <td>386.1</td>\n",
       "      <td>0.14250</td>\n",
       "      <td>0</td>\n",
       "    </tr>\n",
       "    <tr>\n",
       "      <th>4</th>\n",
       "      <td>20.29</td>\n",
       "      <td>14.34</td>\n",
       "      <td>135.10</td>\n",
       "      <td>1297.0</td>\n",
       "      <td>0.10030</td>\n",
       "      <td>0</td>\n",
       "    </tr>\n",
       "    <tr>\n",
       "      <th>5</th>\n",
       "      <td>12.45</td>\n",
       "      <td>15.70</td>\n",
       "      <td>82.57</td>\n",
       "      <td>477.1</td>\n",
       "      <td>0.12780</td>\n",
       "      <td>0</td>\n",
       "    </tr>\n",
       "    <tr>\n",
       "      <th>6</th>\n",
       "      <td>18.25</td>\n",
       "      <td>19.98</td>\n",
       "      <td>119.60</td>\n",
       "      <td>1040.0</td>\n",
       "      <td>0.09463</td>\n",
       "      <td>0</td>\n",
       "    </tr>\n",
       "    <tr>\n",
       "      <th>7</th>\n",
       "      <td>13.71</td>\n",
       "      <td>20.83</td>\n",
       "      <td>90.20</td>\n",
       "      <td>577.9</td>\n",
       "      <td>0.11890</td>\n",
       "      <td>0</td>\n",
       "    </tr>\n",
       "    <tr>\n",
       "      <th>8</th>\n",
       "      <td>13.00</td>\n",
       "      <td>21.82</td>\n",
       "      <td>87.50</td>\n",
       "      <td>519.8</td>\n",
       "      <td>0.12730</td>\n",
       "      <td>0</td>\n",
       "    </tr>\n",
       "    <tr>\n",
       "      <th>9</th>\n",
       "      <td>12.46</td>\n",
       "      <td>24.04</td>\n",
       "      <td>83.97</td>\n",
       "      <td>475.9</td>\n",
       "      <td>0.11860</td>\n",
       "      <td>0</td>\n",
       "    </tr>\n",
       "  </tbody>\n",
       "</table>\n",
       "</div>"
      ],
      "text/plain": [
       "   mean_radius  mean_texture  mean_perimeter  mean_area  mean_smoothness  \\\n",
       "0        17.99         10.38          122.80     1001.0          0.11840   \n",
       "1        20.57         17.77          132.90     1326.0          0.08474   \n",
       "2        19.69         21.25          130.00     1203.0          0.10960   \n",
       "3        11.42         20.38           77.58      386.1          0.14250   \n",
       "4        20.29         14.34          135.10     1297.0          0.10030   \n",
       "5        12.45         15.70           82.57      477.1          0.12780   \n",
       "6        18.25         19.98          119.60     1040.0          0.09463   \n",
       "7        13.71         20.83           90.20      577.9          0.11890   \n",
       "8        13.00         21.82           87.50      519.8          0.12730   \n",
       "9        12.46         24.04           83.97      475.9          0.11860   \n",
       "\n",
       "   diagnosis  \n",
       "0          0  \n",
       "1          0  \n",
       "2          0  \n",
       "3          0  \n",
       "4          0  \n",
       "5          0  \n",
       "6          0  \n",
       "7          0  \n",
       "8          0  \n",
       "9          0  "
      ]
     },
     "execution_count": 4,
     "metadata": {},
     "output_type": "execute_result"
    }
   ],
   "source": [
    "data.head(10)"
   ]
  },
  {
   "cell_type": "code",
   "execution_count": 5,
   "metadata": {},
   "outputs": [
    {
     "data": {
      "text/plain": [
       "(569, 6)"
      ]
     },
     "execution_count": 5,
     "metadata": {},
     "output_type": "execute_result"
    }
   ],
   "source": [
    "data.shape"
   ]
  },
  {
   "cell_type": "code",
   "execution_count": 6,
   "metadata": {},
   "outputs": [
    {
     "data": {
      "text/plain": [
       "mean_radius        float64\n",
       "mean_texture       float64\n",
       "mean_perimeter     float64\n",
       "mean_area          float64\n",
       "mean_smoothness    float64\n",
       "diagnosis            int64\n",
       "dtype: object"
      ]
     },
     "execution_count": 6,
     "metadata": {},
     "output_type": "execute_result"
    }
   ],
   "source": [
    "data.dtypes"
   ]
  },
  {
   "cell_type": "code",
   "execution_count": 7,
   "metadata": {},
   "outputs": [
    {
     "data": {
      "text/plain": [
       "(569, 6)"
      ]
     },
     "execution_count": 7,
     "metadata": {},
     "output_type": "execute_result"
    }
   ],
   "source": [
    "data.shape"
   ]
  },
  {
   "cell_type": "code",
   "execution_count": 8,
   "metadata": {},
   "outputs": [
    {
     "data": {
      "text/html": [
       "<div>\n",
       "<style scoped>\n",
       "    .dataframe tbody tr th:only-of-type {\n",
       "        vertical-align: middle;\n",
       "    }\n",
       "\n",
       "    .dataframe tbody tr th {\n",
       "        vertical-align: top;\n",
       "    }\n",
       "\n",
       "    .dataframe thead th {\n",
       "        text-align: right;\n",
       "    }\n",
       "</style>\n",
       "<table border=\"1\" class=\"dataframe\">\n",
       "  <thead>\n",
       "    <tr style=\"text-align: right;\">\n",
       "      <th></th>\n",
       "      <th>mean_radius</th>\n",
       "      <th>mean_texture</th>\n",
       "      <th>mean_perimeter</th>\n",
       "      <th>mean_area</th>\n",
       "      <th>mean_smoothness</th>\n",
       "      <th>diagnosis</th>\n",
       "    </tr>\n",
       "  </thead>\n",
       "  <tbody>\n",
       "    <tr>\n",
       "      <th>count</th>\n",
       "      <td>569.000000</td>\n",
       "      <td>569.000000</td>\n",
       "      <td>569.000000</td>\n",
       "      <td>569.000000</td>\n",
       "      <td>569.000000</td>\n",
       "      <td>569.000000</td>\n",
       "    </tr>\n",
       "    <tr>\n",
       "      <th>mean</th>\n",
       "      <td>14.127292</td>\n",
       "      <td>19.289649</td>\n",
       "      <td>91.969033</td>\n",
       "      <td>654.889104</td>\n",
       "      <td>0.096360</td>\n",
       "      <td>0.627417</td>\n",
       "    </tr>\n",
       "    <tr>\n",
       "      <th>std</th>\n",
       "      <td>3.524049</td>\n",
       "      <td>4.301036</td>\n",
       "      <td>24.298981</td>\n",
       "      <td>351.914129</td>\n",
       "      <td>0.014064</td>\n",
       "      <td>0.483918</td>\n",
       "    </tr>\n",
       "    <tr>\n",
       "      <th>min</th>\n",
       "      <td>6.981000</td>\n",
       "      <td>9.710000</td>\n",
       "      <td>43.790000</td>\n",
       "      <td>143.500000</td>\n",
       "      <td>0.052630</td>\n",
       "      <td>0.000000</td>\n",
       "    </tr>\n",
       "    <tr>\n",
       "      <th>25%</th>\n",
       "      <td>11.700000</td>\n",
       "      <td>16.170000</td>\n",
       "      <td>75.170000</td>\n",
       "      <td>420.300000</td>\n",
       "      <td>0.086370</td>\n",
       "      <td>0.000000</td>\n",
       "    </tr>\n",
       "    <tr>\n",
       "      <th>50%</th>\n",
       "      <td>13.370000</td>\n",
       "      <td>18.840000</td>\n",
       "      <td>86.240000</td>\n",
       "      <td>551.100000</td>\n",
       "      <td>0.095870</td>\n",
       "      <td>1.000000</td>\n",
       "    </tr>\n",
       "    <tr>\n",
       "      <th>75%</th>\n",
       "      <td>15.780000</td>\n",
       "      <td>21.800000</td>\n",
       "      <td>104.100000</td>\n",
       "      <td>782.700000</td>\n",
       "      <td>0.105300</td>\n",
       "      <td>1.000000</td>\n",
       "    </tr>\n",
       "    <tr>\n",
       "      <th>max</th>\n",
       "      <td>28.110000</td>\n",
       "      <td>39.280000</td>\n",
       "      <td>188.500000</td>\n",
       "      <td>2501.000000</td>\n",
       "      <td>0.163400</td>\n",
       "      <td>1.000000</td>\n",
       "    </tr>\n",
       "  </tbody>\n",
       "</table>\n",
       "</div>"
      ],
      "text/plain": [
       "       mean_radius  mean_texture  mean_perimeter    mean_area  \\\n",
       "count   569.000000    569.000000      569.000000   569.000000   \n",
       "mean     14.127292     19.289649       91.969033   654.889104   \n",
       "std       3.524049      4.301036       24.298981   351.914129   \n",
       "min       6.981000      9.710000       43.790000   143.500000   \n",
       "25%      11.700000     16.170000       75.170000   420.300000   \n",
       "50%      13.370000     18.840000       86.240000   551.100000   \n",
       "75%      15.780000     21.800000      104.100000   782.700000   \n",
       "max      28.110000     39.280000      188.500000  2501.000000   \n",
       "\n",
       "       mean_smoothness   diagnosis  \n",
       "count       569.000000  569.000000  \n",
       "mean          0.096360    0.627417  \n",
       "std           0.014064    0.483918  \n",
       "min           0.052630    0.000000  \n",
       "25%           0.086370    0.000000  \n",
       "50%           0.095870    1.000000  \n",
       "75%           0.105300    1.000000  \n",
       "max           0.163400    1.000000  "
      ]
     },
     "execution_count": 8,
     "metadata": {},
     "output_type": "execute_result"
    }
   ],
   "source": [
    "data.describe()"
   ]
  },
  {
   "cell_type": "code",
   "execution_count": 9,
   "metadata": {},
   "outputs": [],
   "source": [
    "from sklearn.model_selection import train_test_split"
   ]
  },
  {
   "cell_type": "code",
   "execution_count": 10,
   "metadata": {},
   "outputs": [],
   "source": [
    "from sklearn.preprocessing import MinMaxScaler\n",
    "from xgboost import XGBClassifier\n",
    "import seaborn as sns"
   ]
  },
  {
   "cell_type": "code",
   "execution_count": 11,
   "metadata": {},
   "outputs": [
    {
     "data": {
      "text/plain": [
       "False"
      ]
     },
     "execution_count": 11,
     "metadata": {},
     "output_type": "execute_result"
    }
   ],
   "source": [
    "data.isnull().values.any()"
   ]
  },
  {
   "cell_type": "code",
   "execution_count": 12,
   "metadata": {},
   "outputs": [
    {
     "data": {
      "text/plain": [
       "1    357\n",
       "0    212\n",
       "Name: diagnosis, dtype: int64"
      ]
     },
     "execution_count": 12,
     "metadata": {},
     "output_type": "execute_result"
    }
   ],
   "source": [
    "data['diagnosis'].value_counts()"
   ]
  },
  {
   "cell_type": "code",
   "execution_count": 13,
   "metadata": {},
   "outputs": [],
   "source": [
    "prob_has = 357 / 569 * 100\n",
    "prob_not_have = 212 / 569 * 100"
   ]
  },
  {
   "cell_type": "code",
   "execution_count": 14,
   "metadata": {},
   "outputs": [
    {
     "data": {
      "text/plain": [
       "62.741652021089635"
      ]
     },
     "execution_count": 14,
     "metadata": {},
     "output_type": "execute_result"
    }
   ],
   "source": [
    "prob_has"
   ]
  },
  {
   "cell_type": "code",
   "execution_count": 15,
   "metadata": {},
   "outputs": [
    {
     "data": {
      "text/plain": [
       "37.258347978910365"
      ]
     },
     "execution_count": 15,
     "metadata": {},
     "output_type": "execute_result"
    }
   ],
   "source": [
    "prob_not_have"
   ]
  },
  {
   "cell_type": "code",
   "execution_count": 16,
   "metadata": {},
   "outputs": [
    {
     "data": {
      "text/plain": [
       "<matplotlib.axes._subplots.AxesSubplot at 0x1e761cbaf08>"
      ]
     },
     "execution_count": 16,
     "metadata": {},
     "output_type": "execute_result"
    },
    {
     "data": {
      "image/png": "[encoded data removed]",
      "text/plain": [
       "<Figure size 432x288 with 1 Axes>"
      ]
     },
     "metadata": {
      "needs_background": "light"
     },
     "output_type": "display_data"
    }
   ],
   "source": [
    "sns.countplot(data['diagnosis'])"
   ]
  },
  {
   "cell_type": "code",
   "execution_count": 17,
   "metadata": {},
   "outputs": [],
   "source": [
    "X = np.array(data.drop('diagnosis', 1))"
   ]
  },
  {
   "cell_type": "code",
   "execution_count": 18,
   "metadata": {},
   "outputs": [
    {
     "data": {
      "text/plain": [
       "array([[1.799e+01, 1.038e+01, 1.228e+02, 1.001e+03, 1.184e-01],\n",
       "       [2.057e+01, 1.777e+01, 1.329e+02, 1.326e+03, 8.474e-02],\n",
       "       [1.969e+01, 2.125e+01, 1.300e+02, 1.203e+03, 1.096e-01],\n",
       "       ...,\n",
       "       [1.660e+01, 2.808e+01, 1.083e+02, 8.581e+02, 8.455e-02],\n",
       "       [2.060e+01, 2.933e+01, 1.401e+02, 1.265e+03, 1.178e-01],\n",
       "       [7.760e+00, 2.454e+01, 4.792e+01, 1.810e+02, 5.263e-02]])"
      ]
     },
     "execution_count": 18,
     "metadata": {},
     "output_type": "execute_result"
    }
   ],
   "source": [
    "X"
   ]
  },
  {
   "cell_type": "code",
   "execution_count": 19,
   "metadata": {},
   "outputs": [],
   "source": [
    "y = np.array(data['diagnosis'])"
   ]
  },
  {
   "cell_type": "code",
   "execution_count": 20,
   "metadata": {},
   "outputs": [
    {
     "data": {
      "text/plain": [
       "array([0, 0, 0, 0, 0, 0, 0, 0, 0, 0, 0, 0, 0, 0, 0, 0, 0, 0, 0, 1, 1, 1,\n",
       "       0, 0, 0, 0, 0, 0, 0, 0, 0, 0, 0, 0, 0, 0, 0, 1, 0, 0, 0, 0, 0, 0,\n",
       "       0, 0, 1, 0, 1, 1, 1, 1, 1, 0, 0, 1, 0, 0, 1, 1, 1, 1, 0, 1, 0, 0,\n",
       "       1, 1, 1, 1, 0, 1, 0, 0, 1, 0, 1, 0, 0, 1, 1, 1, 0, 0, 1, 0, 0, 0,\n",
       "       1, 1, 1, 0, 1, 1, 0, 0, 1, 1, 1, 0, 0, 1, 1, 1, 1, 0, 1, 1, 0, 1,\n",
       "       1, 1, 1, 1, 1, 1, 1, 0, 0, 0, 1, 0, 0, 1, 1, 1, 0, 0, 1, 0, 1, 0,\n",
       "       0, 1, 0, 0, 1, 1, 0, 1, 1, 0, 1, 1, 1, 1, 0, 1, 1, 1, 1, 1, 1, 1,\n",
       "       1, 1, 0, 1, 1, 1, 1, 0, 0, 1, 0, 1, 1, 0, 0, 1, 1, 0, 0, 1, 1, 1,\n",
       "       1, 0, 1, 1, 0, 0, 0, 1, 0, 1, 0, 1, 1, 1, 0, 1, 1, 0, 0, 1, 0, 0,\n",
       "       0, 0, 1, 0, 0, 0, 1, 0, 1, 0, 1, 1, 0, 1, 0, 0, 0, 0, 1, 1, 0, 0,\n",
       "       1, 1, 1, 0, 1, 1, 1, 1, 1, 0, 0, 1, 1, 0, 1, 1, 0, 0, 1, 0, 1, 1,\n",
       "       1, 1, 0, 1, 1, 1, 1, 1, 0, 1, 0, 0, 0, 0, 0, 0, 0, 0, 0, 0, 0, 0,\n",
       "       0, 0, 1, 1, 1, 1, 1, 1, 0, 1, 0, 1, 1, 0, 1, 1, 0, 1, 0, 0, 1, 1,\n",
       "       1, 1, 1, 1, 1, 1, 1, 1, 1, 1, 1, 0, 1, 1, 0, 1, 0, 1, 1, 1, 1, 1,\n",
       "       1, 1, 1, 1, 1, 1, 1, 1, 1, 0, 1, 1, 1, 0, 1, 0, 1, 1, 1, 1, 0, 0,\n",
       "       0, 1, 1, 1, 1, 0, 1, 0, 1, 0, 1, 1, 1, 0, 1, 1, 1, 1, 1, 1, 1, 0,\n",
       "       0, 0, 1, 1, 1, 1, 1, 1, 1, 1, 1, 1, 1, 0, 0, 1, 0, 0, 0, 1, 0, 0,\n",
       "       1, 1, 1, 1, 1, 0, 1, 1, 1, 1, 1, 0, 1, 1, 1, 0, 1, 1, 0, 0, 1, 1,\n",
       "       1, 1, 1, 1, 0, 1, 1, 1, 1, 1, 1, 1, 0, 1, 1, 1, 1, 1, 0, 1, 1, 0,\n",
       "       1, 1, 1, 1, 1, 1, 1, 1, 1, 1, 1, 1, 0, 1, 0, 0, 1, 0, 1, 1, 1, 1,\n",
       "       1, 0, 1, 1, 0, 1, 0, 1, 1, 0, 1, 0, 1, 1, 1, 1, 1, 1, 1, 1, 0, 0,\n",
       "       1, 1, 1, 1, 1, 1, 0, 1, 1, 1, 1, 1, 1, 1, 1, 1, 1, 0, 1, 1, 1, 1,\n",
       "       1, 1, 1, 0, 1, 0, 1, 1, 0, 1, 1, 1, 1, 1, 0, 0, 1, 0, 1, 0, 1, 1,\n",
       "       1, 1, 1, 0, 1, 1, 0, 1, 0, 1, 0, 0, 1, 1, 1, 0, 1, 1, 1, 1, 1, 1,\n",
       "       1, 1, 1, 1, 1, 0, 1, 0, 0, 1, 1, 1, 1, 1, 1, 1, 1, 1, 1, 1, 1, 1,\n",
       "       1, 1, 1, 1, 1, 1, 1, 1, 1, 1, 1, 1, 0, 0, 0, 0, 0, 0, 1],\n",
       "      dtype=int64)"
      ]
     },
     "execution_count": 20,
     "metadata": {},
     "output_type": "execute_result"
    }
   ],
   "source": [
    "y"
   ]
  },
  {
   "cell_type": "code",
   "execution_count": 21,
   "metadata": {},
   "outputs": [],
   "source": [
    "x_train, x_test, y_train, y_test = train_test_split(X, y, test_size=0.2, random_state=10)"
   ]
  },
  {
   "cell_type": "code",
   "execution_count": 22,
   "metadata": {},
   "outputs": [],
   "source": [
    "scale = MinMaxScaler(feature_range=(0,1))"
   ]
  },
  {
   "cell_type": "code",
   "execution_count": 23,
   "metadata": {},
   "outputs": [],
   "source": [
    "x_train = scale.fit_transform(x_train)\n",
    "x_test = scale.transform(x_test)"
   ]
  },
  {
   "cell_type": "code",
   "execution_count": 24,
   "metadata": {},
   "outputs": [],
   "source": [
    "model = XGBClassifier()"
   ]
  },
  {
   "cell_type": "code",
   "execution_count": 25,
   "metadata": {},
   "outputs": [
    {
     "data": {
      "text/plain": [
       "XGBClassifier(base_score=0.5, booster=None, colsample_bylevel=1,\n",
       "              colsample_bynode=1, colsample_bytree=1, gamma=0, gpu_id=-1,\n",
       "              importance_type='gain', interaction_constraints=None,\n",
       "              learning_rate=0.300000012, max_delta_step=0, max_depth=6,\n",
       "              min_child_weight=1, missing=nan, monotone_constraints=None,\n",
       "              n_estimators=100, n_jobs=0, num_parallel_tree=1,\n",
       "              objective='binary:logistic', random_state=0, reg_alpha=0,\n",
       "              reg_lambda=1, scale_pos_weight=1, subsample=1, tree_method=None,\n",
       "              validate_parameters=False, verbosity=None)"
      ]
     },
     "execution_count": 25,
     "metadata": {},
     "output_type": "execute_result"
    }
   ],
   "source": [
    "model.fit(x_train, y_train)"
   ]
  },
  {
   "cell_type": "code",
   "execution_count": 26,
   "metadata": {
    "scrolled": true
   },
   "outputs": [
    {
     "data": {
      "text/plain": [
       "array([[0.64456434, 0.65570934, 0.66553797, 0.4757158 , 0.58833619],\n",
       "       [0.32131194, 0.1       , 0.30592219, 0.18629905, 0.35524059],\n",
       "       [0.39703725, 0.4283737 , 0.38981411, 0.24801697, 0.35542114],\n",
       "       ...,\n",
       "       [0.25363245, 0.06539792, 0.24289959, 0.1378579 , 0.33763654],\n",
       "       [0.32509821, 0.23633218, 0.30854813, 0.18884411, 0.31795613],\n",
       "       [0.65071702, 0.71764706, 0.63513233, 0.54103924, 0.3797057 ]])"
      ]
     },
     "execution_count": 26,
     "metadata": {},
     "output_type": "execute_result"
    }
   ],
   "source": [
    "x_train"
   ]
  },
  {
   "cell_type": "code",
   "execution_count": 27,
   "metadata": {},
   "outputs": [
    {
     "data": {
      "text/plain": [
       "array([[ 0.4012968 ,  0.05224913,  0.40570797,  0.25170732,  0.65965514],\n",
       "       [ 0.1113162 ,  0.4       ,  0.10517587,  0.05111347,  0.35903223],\n",
       "       [ 0.31752568,  0.19688581,  0.30440191,  0.184772  ,  0.27435226],\n",
       "       [ 0.443419  ,  0.4467128 ,  0.45062539,  0.29560976,  0.40435136],\n",
       "       [ 0.19778503,  0.3816609 ,  0.18768572,  0.10044539,  0.44389275],\n",
       "       [ 0.13015287,  0.1716263 ,  0.13813835,  0.06646872,  0.49264241],\n",
       "       [ 0.18358654,  0.38408304,  0.17082441,  0.09204666,  0.19572086],\n",
       "       [ 0.29764778,  0.15155709,  0.28297975,  0.17314952,  0.1888598 ],\n",
       "       [ 0.48317478,  0.40449827,  0.46859236,  0.33289502,  0.40290692],\n",
       "       [ 0.34118983,  0.46470588,  0.33916108,  0.19817603,  0.37916403],\n",
       "       [ 0.27445691,  0.21141869,  0.2596918 ,  0.15227996,  0.41238603],\n",
       "       [ 0.27067064,  0.06193772,  0.25630571,  0.14909862,  0.31795613],\n",
       "       [ 0.29291495,  0.28650519,  0.29154861,  0.16589608,  0.57028076],\n",
       "       [ 0.33314402,  0.18269896,  0.31649506,  0.19639449,  0.24401914],\n",
       "       [ 0.45525108,  0.61245675,  0.44578813,  0.30311771,  0.28816467],\n",
       "       [ 0.4883809 ,  0.23183391,  0.47826688,  0.3328526 ,  0.43486504],\n",
       "       [ 0.21860949,  0.27612457,  0.20793311,  0.11418876,  0.29294935],\n",
       "       [ 0.30664016,  0.61695502,  0.29092668,  0.17756098,  0.2034847 ],\n",
       "       [ 0.24605992,  0.35086505,  0.23101375,  0.13370095,  0.24826216],\n",
       "       [ 0.51441147,  0.09861592,  0.48932347,  0.35995758,  0.23246366],\n",
       "       [ 0.43915945,  0.39792388,  0.44025983,  0.28984093,  0.57660016],\n",
       "       [ 0.37289981,  0.44394464,  0.39119619,  0.22392365,  0.46736481],\n",
       "       [ 0.13128875,  0.616609  ,  0.12362656,  0.06252386,  0.24564413],\n",
       "       [ 0.37952577,  0.17750865,  0.37081059,  0.22948038,  0.28058138],\n",
       "       [ 0.56031994,  0.40103806,  0.55220786,  0.40996819,  0.44389275],\n",
       "       [ 0.58777036,  0.26989619,  0.57639417,  0.42481442,  0.46104541],\n",
       "       [ 0.2914951 ,  0.35847751,  0.29154861,  0.16687169,  0.30802564],\n",
       "       [ 0.63841166,  0.35605536,  0.62822196,  0.49013786,  0.35144895],\n",
       "       [ 0.20772398,  0.29446367,  0.19611637,  0.10710498,  0.31145617],\n",
       "       [ 0.26688438,  0.47024221,  0.25955359,  0.14969247,  0.23833168],\n",
       "       [ 0.27351034,  0.10346021,  0.26604934,  0.15295864,  0.31876862],\n",
       "       [ 0.16560178,  0.32802768,  0.15845484,  0.0823754 ,  0.49083687],\n",
       "       [ 0.57641157,  0.56124567,  0.5694838 ,  0.42184517,  0.44569829],\n",
       "       [ 0.24747977,  0.1283737 ,  0.24179393,  0.13510074,  0.25683849],\n",
       "       [ 0.35112878,  0.57474048,  0.33487665,  0.21319194,  0.15636003],\n",
       "       [ 0.3085333 ,  0.08062284,  0.28954461,  0.17930011,  0.19075562],\n",
       "       [ 0.32651806,  0.2       ,  0.3080644 ,  0.19219512,  0.15915862],\n",
       "       [ 0.07998485,  0.14083045,  0.07345726,  0.03550371,  0.34982396],\n",
       "       [ 0.31610583,  0.1650519 ,  0.30737337,  0.18540827,  0.27128284],\n",
       "       [ 0.25363245,  0.40968858,  0.24918803,  0.13616119,  0.43847612],\n",
       "       [ 0.20062473,  0.32802768,  0.19452699,  0.10341463,  0.47639253],\n",
       "       [ 0.08978182,  0.17681661,  0.08948932,  0.04135737,  0.27353977],\n",
       "       [ 0.05859246,  0.35709343,  0.06551033,  0.02562036,  0.37392796],\n",
       "       [ 0.19399877,  0.29238754,  0.20392509,  0.09251326,  0.62264151],\n",
       "       [ 0.24795305,  0.33425606,  0.24656209,  0.13132556,  0.51430893],\n",
       "       [ 0.45761749,  0.38062284,  0.45753576,  0.32284199,  0.53687822],\n",
       "       [ 0.29812107,  0.34256055,  0.30080851,  0.17039236,  0.4646565 ],\n",
       "       [ 0.25363245,  0.57024221,  0.25817152,  0.14163309,  0.45833709],\n",
       "       [ 0.31847224,  0.3615917 ,  0.32071039,  0.18426299,  0.59826668],\n",
       "       [ 0.09692839,  0.24048443,  0.10365559,  0.04538706,  0.48722578],\n",
       "       [ 0.30900658,  0.29446367,  0.3061986 ,  0.17586426,  0.48090638],\n",
       "       [ 0.22286904,  0.48650519,  0.22513994,  0.11151644,  0.64069694],\n",
       "       [ 0.4012968 ,  0.31487889,  0.40017967,  0.25679745,  0.51069784],\n",
       "       [ 0.23044157,  0.2449827 ,  0.21940433,  0.12267232,  0.28067166],\n",
       "       [ 0.25599886,  0.24567474,  0.25464723,  0.1354825 ,  0.46555927],\n",
       "       [ 0.76809125,  0.57404844,  0.75813696,  0.64750795,  0.38331678],\n",
       "       [ 0.46377017,  0.29134948,  0.4526985 ,  0.31507953,  0.3251783 ],\n",
       "       [ 0.29812107,  0.11557093,  0.29023564,  0.16895016,  0.27985917],\n",
       "       [ 0.29480808,  0.61176471,  0.2839472 ,  0.16750795,  0.30766453],\n",
       "       [ 0.16986133,  0.27474048,  0.15914588,  0.08373277,  0.25990792],\n",
       "       [ 0.69709877,  0.23771626,  0.67106627,  0.59490986,  0.37203214],\n",
       "       [ 0.26925079,  0.23944637,  0.25886255,  0.14693531,  0.45292047],\n",
       "       [ 0.36911354,  0.46920415,  0.37046507,  0.2226087 ,  0.58291956],\n",
       "       [ 0.22807516,  0.21453287,  0.24324511,  0.1223754 ,  0.50979507],\n",
       "       [ 0.19683847,  0.12768166,  0.18968972,  0.10226935,  0.18154735],\n",
       "       [ 0.34260968,  0.60449827,  0.33694976,  0.20377519,  0.26722037],\n",
       "       [ 0.23754082,  0.61764706,  0.22790408,  0.12682927,  0.28653968],\n",
       "       [ 0.18074684, -0.02318339,  0.1726211 ,  0.09081654,  0.39099034],\n",
       "       [ 0.31373941,  0.50519031,  0.30585309,  0.18629905,  0.38142096],\n",
       "       [ 0.34260968,  0.44083045,  0.34952664,  0.19783669,  0.49535073],\n",
       "       [ 0.15518955,  0.06366782,  0.15175178,  0.07554613,  0.42728175],\n",
       "       [ 0.16607506,  0.28477509,  0.15942229,  0.08093319,  0.48903133],\n",
       "       [ 0.17128118,  0.29653979,  0.17614539,  0.08606575,  0.39947639],\n",
       "       [ 0.09318946,  0.18615917,  0.10331007,  0.04313892,  0.37907376],\n",
       "       [ 0.20535757,  0.57785467,  0.19328312,  0.10697773,  0.14624898],\n",
       "       [ 0.39467083,  0.2384083 ,  0.41054523,  0.24169671,  0.73007132],\n",
       "       [ 0.15234985,  0.24567474,  0.14691452,  0.07537646,  0.25196353],\n",
       "       [ 0.22996829,  0.29619377,  0.21919701,  0.12067869,  0.32571996],\n",
       "       [ 0.51819774,  0.48788927,  0.4934697 ,  0.36284199,  0.32427553],\n",
       "       [ 0.49074731,  0.43875433,  0.46444613,  0.33493107,  0.30685204],\n",
       "       [ 0.20299115,  0.17716263,  0.20447792,  0.10540827,  0.28003972],\n",
       "       [ 0.23233471,  0.3733564 ,  0.22527814,  0.12313892,  0.40714995],\n",
       "       [ 0.62468645,  0.47024221,  0.69041531,  0.46723224,  0.68583552],\n",
       "       [ 0.27398362,  0.3816609 ,  0.26418354,  0.15435843,  0.31470615],\n",
       "       [ 0.19636519,  0.21591696,  0.18436874,  0.10078473,  0.26072041],\n",
       "       [ 0.25173932,  0.29896194,  0.2355746 ,  0.13611877,  0.27534531],\n",
       "       [ 0.29480808,  0.51453287,  0.27855711,  0.16729586,  0.31849779],\n",
       "       [ 0.46660987,  0.31418685,  0.44647917,  0.31249205,  0.19698474],\n",
       "       [ 0.27540347,  0.2449827 ,  0.27130122,  0.15474019,  0.25106076],\n",
       "       [ 0.3028539 ,  0.70380623,  0.29403635,  0.1754825 ,  0.35948361],\n",
       "       [ 0.25457901,  0.28235294,  0.24338332,  0.13709438,  0.29015076],\n",
       "       [ 0.31279284,  0.25813149,  0.29334531,  0.18188759,  0.24239415],\n",
       "       [ 0.36438071,  0.33737024,  0.35208348,  0.22948038,  0.415636  ],\n",
       "       [ 0.29196838,  0.1716263 ,  0.28691866,  0.16772004,  0.37203214],\n",
       "       [ 0.2607317 ,  0.22387543,  0.24462719,  0.14341463,  0.29322019],\n",
       "       [ 0.21482323,  0.15743945,  0.207864  ,  0.11147402,  0.43937889],\n",
       "       [ 0.4770221 ,  0.36747405,  0.46997443,  0.32878049,  0.53507267],\n",
       "       [ 0.11434521,  0.39100346,  0.11028954,  0.05314952,  0.24428997],\n",
       "       [ 0.6204269 ,  0.46643599,  0.62822196,  0.46808059,  0.49986458],\n",
       "       [ 0.4348999 ,  0.19688581,  0.43196738,  0.27359491,  0.41680961],\n",
       "       [ 0.55274741,  0.23321799,  0.53631401,  0.39597031,  0.47639253],\n",
       "       [ 0.52529699,  0.39653979,  0.50867252,  0.37348887,  0.19030423],\n",
       "       [ 0.12963226,  0.27128028,  0.11706171,  0.06133616,  0.15229755],\n",
       "       [ 0.27587676,  0.09273356,  0.25913897,  0.15495228,  0.31380338],\n",
       "       [ 0.18453311,  0.18131488,  0.18395412,  0.09136797,  0.43396226],\n",
       "       [ 0.13048417,  0.0550173 ,  0.120586  ,  0.06150583,  0.359935  ],\n",
       "       [ 0.5333428 ,  0.33217993,  0.52387534,  0.38027572,  0.37916403],\n",
       "       [ 0.78228974,  0.48062284,  0.76919356,  0.68016967,  0.4899341 ],\n",
       "       [ 0.15140328,  0.24740484,  0.14739824,  0.07194062,  0.48271193],\n",
       "       [ 0.22854844,  0.24256055,  0.21753853,  0.12106045,  0.43396226],\n",
       "       [ 0.27161721,  0.25224913,  0.25699675,  0.15177094,  0.23769974],\n",
       "       [ 0.22807516,  0.23806228,  0.21746942,  0.12233298,  0.34521982],\n",
       "       [ 0.63225898,  0.38512111,  0.63651441,  0.47529162,  0.58111402],\n",
       "       [ 0.48790762,  0.40657439,  0.4879414 ,  0.34116649,  0.33727544]])"
      ]
     },
     "execution_count": 27,
     "metadata": {},
     "output_type": "execute_result"
    }
   ],
   "source": [
    "x_test"
   ]
  },
  {
   "cell_type": "code",
   "execution_count": 28,
   "metadata": {},
   "outputs": [],
   "source": [
    "predictions = model.predict(x_test)"
   ]
  },
  {
   "cell_type": "code",
   "execution_count": 29,
   "metadata": {},
   "outputs": [
    {
     "data": {
      "text/plain": [
       "array([1, 1, 1, 0, 1, 1, 1, 1, 0, 1, 1, 1, 1, 1, 0, 0, 1, 1, 1, 0, 0, 0,\n",
       "       1, 1, 0, 0, 1, 0, 1, 1, 1, 1, 0, 1, 1, 1, 1, 1, 1, 1, 1, 1, 1, 1,\n",
       "       1, 0, 1, 1, 0, 1, 1, 0, 0, 1, 1, 0, 0, 1, 1, 1, 0, 1, 0, 1, 1, 1,\n",
       "       1, 1, 0, 0, 1, 1, 1, 1, 1, 0, 1, 1, 0, 0, 1, 1, 0, 1, 1, 1, 1, 0,\n",
       "       1, 0, 1, 1, 0, 1, 1, 1, 0, 1, 0, 0, 0, 0, 1, 1, 1, 1, 0, 0, 1, 1,\n",
       "       1, 1, 0, 0], dtype=int64)"
      ]
     },
     "execution_count": 29,
     "metadata": {},
     "output_type": "execute_result"
    }
   ],
   "source": [
    "predictions"
   ]
  },
  {
   "cell_type": "code",
   "execution_count": 30,
   "metadata": {},
   "outputs": [
    {
     "data": {
      "text/plain": [
       "array([0, 1, 1, 0, 1, 1, 1, 1, 0, 0, 1, 1, 0, 1, 0, 0, 1, 1, 1, 1, 0, 0,\n",
       "       1, 1, 0, 0, 1, 0, 1, 1, 1, 1, 0, 1, 1, 1, 1, 1, 1, 1, 1, 1, 1, 0,\n",
       "       1, 0, 0, 0, 0, 1, 1, 1, 0, 1, 1, 0, 0, 1, 1, 1, 0, 1, 0, 0, 1, 1,\n",
       "       1, 1, 0, 0, 1, 1, 1, 1, 1, 0, 1, 1, 0, 0, 1, 1, 0, 1, 1, 1, 1, 1,\n",
       "       1, 1, 1, 1, 0, 1, 1, 1, 0, 1, 0, 1, 0, 0, 1, 1, 1, 1, 0, 0, 1, 1,\n",
       "       1, 1, 0, 0], dtype=int64)"
      ]
     },
     "execution_count": 30,
     "metadata": {},
     "output_type": "execute_result"
    }
   ],
   "source": [
    "y_test"
   ]
  },
  {
   "cell_type": "code",
   "execution_count": 32,
   "metadata": {},
   "outputs": [],
   "source": [
    "from sklearn.metrics import classification_report"
   ]
  },
  {
   "cell_type": "code",
   "execution_count": 34,
   "metadata": {},
   "outputs": [
    {
     "name": "stdout",
     "output_type": "stream",
     "text": [
      "              precision    recall  f1-score   support\n",
      "\n",
      "           0       0.86      0.82      0.84        39\n",
      "           1       0.91      0.93      0.92        75\n",
      "\n",
      "    accuracy                           0.89       114\n",
      "   macro avg       0.89      0.88      0.88       114\n",
      "weighted avg       0.89      0.89      0.89       114\n",
      "\n"
     ]
    }
   ],
   "source": [
    "print(classification_report(y_test, predictions))"
   ]
  }
 ],
 "metadata": {
  "kernelspec": {
   "display_name": "Python 3",
   "language": "python",
   "name": "python3"
  },
  "language_info": {
   "codemirror_mode": {
    "name": "ipython",
    "version": 3
   },
   "file_extension": ".py",
   "mimetype": "text/x-python",
   "name": "python",
   "nbconvert_exporter": "python",
   "pygments_lexer": "ipython3",
   "version": "3.7.5"
  }
 },
 "nbformat": 4,
 "nbformat_minor": 2
}
